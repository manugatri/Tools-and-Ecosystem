{
 "cells": [
  {
   "cell_type": "markdown",
   "id": "9ff0e23b",
   "metadata": {},
   "source": [
    "# Data Science Tools and Ecosystem"
   ]
  },
  {
   "cell_type": "markdown",
   "id": "45c805c3",
   "metadata": {},
   "source": [
    "In this notebook, Data Science Tools and Ecosystem are summarized."
   ]
  },
  {
   "cell_type": "markdown",
   "id": "09b66c02",
   "metadata": {},
   "source": [
    "**Objectives:**\n",
    "\n",
    " - List Popular languages for Data Science\n",
    " - Learn to use Markdown text cells\n",
    " - List data science libraries\n",
    " - Create tables\n",
    " - List data science tools\n",
    " - Execution of arithmetic expressions\n"
   ]
  },
  {
   "cell_type": "markdown",
   "id": "3cc05da0",
   "metadata": {},
   "source": [
    "Some of the popular languages that Data Scientists use are:\n",
    "\n",
    "1. Python\n",
    "2. R\n",
    "3. Sql\n",
    "4. Scala"
   ]
  },
  {
   "cell_type": "markdown",
   "id": "01fd69c7",
   "metadata": {},
   "source": [
    "Some of the commonly use libraries used by Data Scientists include:\n",
    "\n",
    "1. Pandas\n",
    "2. Numpy\n",
    "3. Plotly\n",
    "4. Tensorflow"
   ]
  },
  {
   "cell_type": "markdown",
   "id": "2917cd0c",
   "metadata": {},
   "source": [
    "|Data Science Tools|\n",
    "|------------------|\n",
    "|GitHub|\n",
    "|Apache Spark|\n",
    "|Hadoop|\n",
    "|Python|"
   ]
  },
  {
   "cell_type": "markdown",
   "id": "2a90dfb0",
   "metadata": {},
   "source": [
    "### Below are a few example of evaluating arithmetic expressions in Python"
   ]
  },
  {
   "cell_type": "code",
   "execution_count": 1,
   "id": "d5505c85",
   "metadata": {},
   "outputs": [
    {
     "data": {
      "text/plain": [
       "17"
      ]
     },
     "execution_count": 1,
     "metadata": {},
     "output_type": "execute_result"
    }
   ],
   "source": [
    "# This a simple arithmetic expression to mutiply then add integers\n",
    "\n",
    "(3*4)+5"
   ]
  },
  {
   "cell_type": "code",
   "execution_count": 2,
   "id": "2f22191f",
   "metadata": {},
   "outputs": [
    {
     "data": {
      "text/plain": [
       "3.3333333333333335"
      ]
     },
     "execution_count": 2,
     "metadata": {},
     "output_type": "execute_result"
    }
   ],
   "source": [
    "# This will convert 200 minutes to hours by 60\n",
    "\n",
    "200/60"
   ]
  },
  {
   "cell_type": "markdown",
   "id": "40c56e9f",
   "metadata": {},
   "source": [
    "## Author\n",
    "Manuel Angel"
   ]
  },
  {
   "cell_type": "code",
   "execution_count": null,
   "id": "85608f77",
   "metadata": {},
   "outputs": [],
   "source": []
  }
 ],
 "metadata": {
  "kernelspec": {
   "display_name": "Python 3 (ipykernel)",
   "language": "python",
   "name": "python3"
  },
  "language_info": {
   "codemirror_mode": {
    "name": "ipython",
    "version": 3
   },
   "file_extension": ".py",
   "mimetype": "text/x-python",
   "name": "python",
   "nbconvert_exporter": "python",
   "pygments_lexer": "ipython3",
   "version": "3.11.5"
  }
 },
 "nbformat": 4,
 "nbformat_minor": 5
}
